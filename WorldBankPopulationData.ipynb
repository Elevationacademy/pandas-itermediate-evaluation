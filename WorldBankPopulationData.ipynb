{
 "cells": [
  {
   "cell_type": "markdown",
   "metadata": {},
   "source": [
    "# Pandas intermediate evaluation - World Population "
   ]
  },
  {
   "cell_type": "markdown",
   "metadata": {},
   "source": [
    "## Installation and import\n",
    "\n",
    "Before you start the excercise, make sure that you installed the pandas-datareader. \n",
    "\n",
    "```\n",
    "pip install pandas-datareader\n",
    "```"
   ]
  },
  {
   "cell_type": "code",
   "execution_count": 156,
   "metadata": {},
   "outputs": [],
   "source": [
    "from pandas_datareader import wb"
   ]
  },
  {
   "cell_type": "markdown",
   "metadata": {},
   "source": [
    "## Get countries list\n",
    "\n",
    "the command ```wb.get_countries()``` fetches from http://data.worldbank.org the list of coutries, with some aggregation, complete the function and filter out only the countries themselfs. "
   ]
  },
  {
   "cell_type": "code",
   "execution_count": 177,
   "metadata": {},
   "outputs": [],
   "source": [
    "def getCountries():\n",
    "    contries_df = wb.get_countries()\n",
    "#    filtered_countries_list = contries_df  # your code starts here! \n",
    "    return filtered_countries_list"
   ]
  },
  {
   "cell_type": "markdown",
   "metadata": {},
   "source": [
    "## Get indicators list\n",
    "the command wb.get_indicators() fetches from http://data.worldbank.org a list of all data series it can provide. \n",
    "select from the thousents of them the relvant population age and gender slices. "
   ]
  },
  {
   "cell_type": "code",
   "execution_count": 190,
   "metadata": {},
   "outputs": [],
   "source": [
    "def getPopulationIndicators():\n",
    "    indicators_df = wb.get_indicators()\n",
    "    filtered_indicators_df = indicators_df # filter to the relevant indicators. \n",
    "    return filtered_indicators_df"
   ]
  }
 ],
 "metadata": {
  "kernelspec": {
   "display_name": "Python 3",
   "language": "python",
   "name": "python3"
  },
  "language_info": {
   "codemirror_mode": {
    "name": "ipython",
    "version": 3
   },
   "file_extension": ".py",
   "mimetype": "text/x-python",
   "name": "python",
   "nbconvert_exporter": "python",
   "pygments_lexer": "ipython3",
   "version": "3.7.6"
  }
 },
 "nbformat": 4,
 "nbformat_minor": 4
}
